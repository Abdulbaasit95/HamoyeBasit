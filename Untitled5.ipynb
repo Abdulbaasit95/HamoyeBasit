{
 "cells": [
  {
   "cell_type": "code",
   "execution_count": 1,
   "id": "485092ff",
   "metadata": {},
   "outputs": [],
   "source": [
    "from itertools import *"
   ]
  },
  {
   "cell_type": "code",
   "execution_count": 3,
   "id": "7c07109b",
   "metadata": {},
   "outputs": [],
   "source": [
    "combinations??"
   ]
  },
  {
   "cell_type": "code",
   "execution_count": null,
   "id": "9775f48a",
   "metadata": {},
   "outputs": [],
   "source": [
    "dummy1 = [\"air\", \"good\", \"unaware\", \"lab\", \"genius\"]\n",
    "dummy2 = \"coin entry virtual\".split()\n",
    "dummy3 = \"tiger people favorite gold\".split()\n",
    "dummy4 = \"first only address flame\".split()\n",
    "dummy5 = \"believe security cash join oxygen\".split()\n",
    "dummy6 = \"input general write upgrade idle\".split()\n",
    "dummy7 = \"welcome opinion rich heart opinion\".split()\n",
    "dummy8 = \"summer flash stool swamp ready\".split()\n",
    "dummy9 = \"action major strong zero future\".split()\n",
    "dummy10 = \"ahead joy discover occur witness\".split()\n",
    "\n",
    "dummy = list(combinations(dummy1 + dummy2 + dummy3 + dummy4 + dummy5 + dummy6 + dummy7 + dummy8 + dummy9 + dummy10, 9))\n",
    "len(dummy)"
   ]
  },
  {
   "cell_type": "code",
   "execution_count": null,
   "id": "e649d91b",
   "metadata": {},
   "outputs": [],
   "source": []
  }
 ],
 "metadata": {
  "kernelspec": {
   "display_name": "Python 3",
   "language": "python",
   "name": "python3"
  },
  "language_info": {
   "codemirror_mode": {
    "name": "ipython",
    "version": 3
   },
   "file_extension": ".py",
   "mimetype": "text/x-python",
   "name": "python",
   "nbconvert_exporter": "python",
   "pygments_lexer": "ipython3",
   "version": "3.8.8"
  }
 },
 "nbformat": 4,
 "nbformat_minor": 5
}
